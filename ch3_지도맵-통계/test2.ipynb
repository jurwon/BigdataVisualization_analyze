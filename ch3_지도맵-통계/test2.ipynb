{
 "cells": [
  {
   "cell_type": "code",
   "execution_count": null,
   "metadata": {},
   "outputs": [],
   "source": [
    "#행정구역별 의료기관 현황 분석해보기\n",
    "#블록맵을 시각화\n",
    "#필요한 데이터 준비물\n",
    "#1) 공공보건의료 기관 현황.csv\n",
    "#2) 행정 구역별 시군구 인구수 엑셀 파일\n",
    "\n",
    "##작업\n",
    "##1. 행정구역별 주소 수정\n",
    "##2. 행정구역별 의료기관 수 집계\n",
    "##3. 행정구역별 인구수 정리\n",
    "##4. 테이블 정리, 내부(공통된 행만 뽑아서), 외부(모든 행을 다 합치기)"
   ]
  }
 ],
 "metadata": {
  "language_info": {
   "name": "python"
  }
 },
 "nbformat": 4,
 "nbformat_minor": 2
}
